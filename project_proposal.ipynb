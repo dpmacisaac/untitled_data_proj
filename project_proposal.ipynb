{
 "cells": [
  {
   "attachments": {},
   "cell_type": "markdown",
   "metadata": {},
   "source": [
    "## Project Proposal\n",
    "\n",
    "Dominic MacIsaac\n",
    "\n",
    "CPSC 325\n",
    "\n",
    "January 26, 2023\n",
    "\n"
   ]
  },
  {
   "attachments": {},
   "cell_type": "markdown",
   "metadata": {},
   "source": [
    "### Mountain Identifier\n",
    "\n",
    "My project will be a website that takes images of mountains and identify which mountain it is looking at."
   ]
  },
  {
   "attachments": {},
   "cell_type": "markdown",
   "metadata": {},
   "source": [
    "##### Motivation\n",
    "The main motivation and purpose of this project is to help myself and other identify mountains when hiking. It can often be difficult to tell one from another and I think this application could help fellow hikers ensure that they're looking at what they think they're looking at!\n",
    "\n",
    "##### Stakeholders\n",
    "Myself\n",
    "    \n",
    "Hikers/Backpackers/Outdoor Enthuasiasts\n",
    "\n",
    "##### Tech Stack\n",
    "The tech I will be using is mostly new to to me. This starts data mining in the form of webscraping sites like Instagram, Twitter, and Google. I have never done webscrapping before so I will have to research into it. Then I will do data cleaning which will involve ensuring the pictures are actually pictures of mountains and then labelling them (this step will probably be done during the data mining phase). "
   ]
  }
 ],
 "metadata": {
  "language_info": {
   "name": "python"
  },
  "orig_nbformat": 4
 },
 "nbformat": 4,
 "nbformat_minor": 2
}
